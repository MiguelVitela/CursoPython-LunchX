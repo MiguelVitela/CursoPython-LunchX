{
 "cells": [
  {
   "cell_type": "markdown",
   "id": "71d14e3a",
   "metadata": {},
   "source": [
    "Oficial superior> \"¿Cadete?\"\n",
    "\n",
    "Usted > \"¿Sí, señora?\"\n",
    "\n",
    "Oficial superior> \"¿Puedes construir un programa que me muestre la fecha? La computadora del barco no venía con mucho en términos de programas de utilidad, por lo que necesitamos crear los que necesitamos. ¿Puedo confiar en ti con esto?\"\n",
    "\n",
    "Usted > \"Considéralo hecho\".\n",
    "\n",
    "Oficial superior> \"Excelente\"."
   ]
  },
  {
   "cell_type": "markdown",
   "id": "cd9e1896",
   "metadata": {},
   "source": [
    "<h1> Mi primer programa</h1>\n",
    "    \n",
    "Para crear este programa, deberás utilizar los conceptos que aprendiste en el último módulo. Usarás Jupyter Notebook en este ejercicio, que es una combinación de texto y código con la que puede interactuar. Finaliza el código siguiente para que el resultado muestre la fecha de hoy."
   ]
  },
  {
   "cell_type": "code",
   "execution_count": 5,
   "id": "e65e582d",
   "metadata": {},
   "outputs": [
    {
     "name": "stdout",
     "output_type": "stream",
     "text": [
      "Today date is : 2022-02-13\n",
      "Today date is: 2022-02-13\n"
     ]
    }
   ],
   "source": [
    "# Hay 2 formas de poner la fecha\n",
    "\n",
    "from datetime import date\n",
    "\n",
    "#1\n",
    "print(\"Today date is :\", date.today())\n",
    "\n",
    "#2\n",
    "print(\"Today date is: \" + str(date.today()))"
   ]
  },
  {
   "cell_type": "markdown",
   "id": "00ea6931",
   "metadata": {},
   "source": [
    "<h1>Construir un convertidor de unidades</h1>\n",
    "\n",
    "El oficial superior> \"Necesito una cosa más: un programa de conversión entre parsecs y años luz. Tener un programa de este tipo podría ser realmente útil en el puente para trazar nuestro curso\".\n",
    "\n",
    "Tú> \"¡Lo haré!\""
   ]
  },
  {
   "cell_type": "code",
   "execution_count": 10,
   "id": "e8fc9daf",
   "metadata": {},
   "outputs": [
    {
     "name": "stdout",
     "output_type": "stream",
     "text": [
      "11 parsec, is 35.877159999999996 lightyears\n",
      "11 parsec son equivalentes a 35.877159999999996 lightyears\n",
      "11 parsec son equivalentes a 35.877159999999996lightyears\n"
     ]
    }
   ],
   "source": [
    "#1 parsec es 3.26156 años luz. Utiliza el operador de multiplicación.\n",
    "parsec = 11\n",
    "\n",
    "lightyears = parsec * 3.26156\n",
    "\n",
    "#1\n",
    "print(str(parsec) + \" parsec, is \" + str(lightyears) + \" lightyears\")\n",
    "\n",
    "#2\n",
    "print(parsec, \"parsec son equivalentes a\", lightyears, \"lightyears\")\n",
    "\n",
    "#3\n",
    "print(str(parsec) + \" parsec son equivalentes a \" + str(lightyears) + \"lightyears\")"
   ]
  }
 ],
 "metadata": {
  "kernelspec": {
   "display_name": "Python 3 (ipykernel)",
   "language": "python",
   "name": "python3"
  },
  "language_info": {
   "codemirror_mode": {
    "name": "ipython",
    "version": 3
   },
   "file_extension": ".py",
   "mimetype": "text/x-python",
   "name": "python",
   "nbconvert_exporter": "python",
   "pygments_lexer": "ipython3",
   "version": "3.10.1"
  }
 },
 "nbformat": 4,
 "nbformat_minor": 5
}
